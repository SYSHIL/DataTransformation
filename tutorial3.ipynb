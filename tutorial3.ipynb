{
 "cells": [
  {
   "cell_type": "code",
   "execution_count": 50,
   "id": "dcef85f4",
   "metadata": {},
   "outputs": [],
   "source": [
    "#Handling missing values\n",
    "from pyspark.sql import SparkSession\n",
    "from pyspark.sql.functions import col\n",
    "\n",
    "spark = SparkSession.builder.appName('professions.csv').getOrCreate()"
   ]
  },
  {
   "cell_type": "code",
   "execution_count": 51,
   "id": "9e123ecf",
   "metadata": {},
   "outputs": [],
   "source": [
    "df_pyspark = spark.read.option('header','true').csv('professions.csv',inferSchema=True) "
   ]
  },
  {
   "cell_type": "code",
   "execution_count": 52,
   "id": "d3499de1",
   "metadata": {},
   "outputs": [
    {
     "name": "stdout",
     "output_type": "stream",
     "text": [
      "+---------+----+--------------------+\n",
      "|     Name| Age|          Profession|\n",
      "+---------+----+--------------------+\n",
      "|    Ilhan|  29|Principal Softwar...|\n",
      "|    Shoie|  35|          CEO - BASF|\n",
      "|  Nishadh|  41|   Head of analytics|\n",
      "|   Rifadh|  41|         CEO - ONINE|\n",
      "|    Azhar|  34|   Surgeon - Abdomen|\n",
      "|  Arshadh|  42|         CEO - EXXON|\n",
      "|  Arshiya|  25|   Software Engineer|\n",
      "|Chandhini|  30|  Dance School owner|\n",
      "|    Suraj|null|    Marine Architect|\n",
      "|Arundathi|null|                null|\n",
      "|   Aparna|null|                null|\n",
      "|   Aadith|null|          Footballer|\n",
      "|   Kaveri|  29|                null|\n",
      "+---------+----+--------------------+\n",
      "\n"
     ]
    }
   ],
   "source": [
    "df_pyspark.show()"
   ]
  },
  {
   "cell_type": "code",
   "execution_count": 53,
   "id": "d89dc1ad",
   "metadata": {},
   "outputs": [
    {
     "name": "stdout",
     "output_type": "stream",
     "text": [
      "+---------+---+--------------------+\n",
      "|     Name|Age|          Profession|\n",
      "+---------+---+--------------------+\n",
      "|    Ilhan| 29|Principal Softwar...|\n",
      "|    Shoie| 35|          CEO - BASF|\n",
      "|  Nishadh| 41|   Head of analytics|\n",
      "|   Rifadh| 41|         CEO - ONINE|\n",
      "|    Azhar| 34|   Surgeon - Abdomen|\n",
      "|  Arshadh| 42|         CEO - EXXON|\n",
      "|  Arshiya| 25|   Software Engineer|\n",
      "|Chandhini| 30|  Dance School owner|\n",
      "+---------+---+--------------------+\n",
      "\n"
     ]
    }
   ],
   "source": [
    "# Remove every row that has atleast one null value\n",
    "df_pyspark.na.drop(how='any').show()"
   ]
  },
  {
   "cell_type": "code",
   "execution_count": 54,
   "id": "6c178208",
   "metadata": {},
   "outputs": [
    {
     "name": "stdout",
     "output_type": "stream",
     "text": [
      "+---------+----+--------------------+\n",
      "|     Name| Age|          Profession|\n",
      "+---------+----+--------------------+\n",
      "|    Ilhan|  29|Principal Softwar...|\n",
      "|    Shoie|  35|          CEO - BASF|\n",
      "|  Nishadh|  41|   Head of analytics|\n",
      "|   Rifadh|  41|         CEO - ONINE|\n",
      "|    Azhar|  34|   Surgeon - Abdomen|\n",
      "|  Arshadh|  42|         CEO - EXXON|\n",
      "|  Arshiya|  25|   Software Engineer|\n",
      "|Chandhini|  30|  Dance School owner|\n",
      "|    Suraj|null|    Marine Architect|\n",
      "|Arundathi|null|                null|\n",
      "|   Aparna|null|                null|\n",
      "|   Aadith|null|          Footballer|\n",
      "|   Kaveri|  29|                null|\n",
      "+---------+----+--------------------+\n",
      "\n"
     ]
    }
   ],
   "source": [
    "# Remove every row that has all null values\n",
    "df_pyspark.na.drop(how='all').show()"
   ]
  },
  {
   "cell_type": "code",
   "execution_count": 55,
   "id": "4ffc3138",
   "metadata": {},
   "outputs": [
    {
     "name": "stdout",
     "output_type": "stream",
     "text": [
      "+---------+----+--------------------+\n",
      "|     Name| Age|          Profession|\n",
      "+---------+----+--------------------+\n",
      "|    Ilhan|  29|Principal Softwar...|\n",
      "|    Shoie|  35|          CEO - BASF|\n",
      "|  Nishadh|  41|   Head of analytics|\n",
      "|   Rifadh|  41|         CEO - ONINE|\n",
      "|    Azhar|  34|   Surgeon - Abdomen|\n",
      "|  Arshadh|  42|         CEO - EXXON|\n",
      "|  Arshiya|  25|   Software Engineer|\n",
      "|Chandhini|  30|  Dance School owner|\n",
      "|    Suraj|null|    Marine Architect|\n",
      "|   Aadith|null|          Footballer|\n",
      "|   Kaveri|  29|                null|\n",
      "+---------+----+--------------------+\n",
      "\n"
     ]
    }
   ],
   "source": [
    "# Remove every row that contains less than two non null values\n",
    "df_pyspark.na.drop(how='any',thresh=2).show()"
   ]
  },
  {
   "cell_type": "code",
   "execution_count": 56,
   "id": "de4f86d8",
   "metadata": {},
   "outputs": [
    {
     "name": "stdout",
     "output_type": "stream",
     "text": [
      "+---------+---+--------------------+\n",
      "|     Name|Age|          Profession|\n",
      "+---------+---+--------------------+\n",
      "|    Ilhan| 29|Principal Softwar...|\n",
      "|    Shoie| 35|          CEO - BASF|\n",
      "|  Nishadh| 41|   Head of analytics|\n",
      "|   Rifadh| 41|         CEO - ONINE|\n",
      "|    Azhar| 34|   Surgeon - Abdomen|\n",
      "|  Arshadh| 42|         CEO - EXXON|\n",
      "|  Arshiya| 25|   Software Engineer|\n",
      "|Chandhini| 30|  Dance School owner|\n",
      "|   Kaveri| 29|                null|\n",
      "+---------+---+--------------------+\n",
      "\n"
     ]
    }
   ],
   "source": [
    "# Remove every row that has a null value in the Age column\n",
    "df_pyspark.na.drop(how='any',subset=['Age']).show()"
   ]
  },
  {
   "cell_type": "code",
   "execution_count": 57,
   "id": "02dd2619",
   "metadata": {},
   "outputs": [
    {
     "data": {
      "text/plain": [
       "DataFrame[Name: string, Age: int, Profession: string]"
      ]
     },
     "execution_count": 57,
     "metadata": {},
     "output_type": "execute_result"
    }
   ],
   "source": [
    "# Replace missing values \n",
    "df_pyspark.na.fill('No idea',['Age'])\n",
    "df_pyspark.na.fill('Check Linkedin',['Profession'])\n"
   ]
  },
  {
   "cell_type": "code",
   "execution_count": 58,
   "id": "3953494b",
   "metadata": {},
   "outputs": [
    {
     "name": "stdout",
     "output_type": "stream",
     "text": [
      "+---------+----+--------------------+\n",
      "|     Name| Age|          Profession|\n",
      "+---------+----+--------------------+\n",
      "|    Ilhan|  29|Principal Softwar...|\n",
      "|    Shoie|  35|          CEO - BASF|\n",
      "|  Nishadh|  41|   Head of analytics|\n",
      "|   Rifadh|  41|         CEO - ONINE|\n",
      "|    Azhar|  34|   Surgeon - Abdomen|\n",
      "|  Arshadh|  42|         CEO - EXXON|\n",
      "|  Arshiya|  25|   Software Engineer|\n",
      "|Chandhini|  30|  Dance School owner|\n",
      "|    Suraj|null|    Marine Architect|\n",
      "|Arundathi|null|                null|\n",
      "|   Aparna|null|                null|\n",
      "|   Aadith|null|          Footballer|\n",
      "|   Kaveri|  29|                null|\n",
      "+---------+----+--------------------+\n",
      "\n"
     ]
    }
   ],
   "source": [
    "df_pyspark.show()"
   ]
  },
  {
   "cell_type": "code",
   "execution_count": 59,
   "id": "b36bf05a",
   "metadata": {},
   "outputs": [
    {
     "name": "stdout",
     "output_type": "stream",
     "text": [
      "root\n",
      " |-- Name: string (nullable = true)\n",
      " |-- Age: integer (nullable = true)\n",
      " |-- Profession: string (nullable = true)\n",
      "\n"
     ]
    }
   ],
   "source": [
    "df_pyspark.printSchema()"
   ]
  },
  {
   "cell_type": "code",
   "execution_count": 60,
   "id": "91437c42",
   "metadata": {},
   "outputs": [],
   "source": [
    "# lets replace null values in the age column with the mean age\n",
    "\n",
    "from pyspark.ml.feature import Imputer\n",
    "imputer = Imputer(\n",
    "    inputCols=[\"Age\"],\n",
    "    outputCols=[\"{}_imputed\".format(c) for c in [\"Age\"]]\n",
    ").setStrategy(\"median\")"
   ]
  },
  {
   "cell_type": "code",
   "execution_count": 63,
   "id": "a04e8cdf",
   "metadata": {},
   "outputs": [],
   "source": [
    "df_pyspark = imputer.fit(df_pyspark).transform(df_pyspark)"
   ]
  },
  {
   "cell_type": "code",
   "execution_count": 65,
   "id": "429f26ec",
   "metadata": {},
   "outputs": [],
   "source": [
    "df_pyspark = df_pyspark.withColumn(\"Age\",col(\"Age_imputed\"))"
   ]
  },
  {
   "cell_type": "code",
   "execution_count": 68,
   "id": "e57eac55",
   "metadata": {},
   "outputs": [],
   "source": [
    "df_pyspark = df_pyspark.drop(\"Age_imputed\")"
   ]
  },
  {
   "cell_type": "code",
   "execution_count": 69,
   "id": "04adcaa5",
   "metadata": {},
   "outputs": [
    {
     "name": "stdout",
     "output_type": "stream",
     "text": [
      "+---------+---+--------------------+\n",
      "|     Name|Age|          Profession|\n",
      "+---------+---+--------------------+\n",
      "|    Ilhan| 29|Principal Softwar...|\n",
      "|    Shoie| 35|          CEO - BASF|\n",
      "|  Nishadh| 41|   Head of analytics|\n",
      "|   Rifadh| 41|         CEO - ONINE|\n",
      "|    Azhar| 34|   Surgeon - Abdomen|\n",
      "|  Arshadh| 42|         CEO - EXXON|\n",
      "|  Arshiya| 25|   Software Engineer|\n",
      "|Chandhini| 30|  Dance School owner|\n",
      "|    Suraj| 34|    Marine Architect|\n",
      "|Arundathi| 34|                null|\n",
      "|   Aparna| 34|                null|\n",
      "|   Aadith| 34|          Footballer|\n",
      "|   Kaveri| 29|                null|\n",
      "+---------+---+--------------------+\n",
      "\n"
     ]
    }
   ],
   "source": [
    "df_pyspark.show()"
   ]
  },
  {
   "cell_type": "code",
   "execution_count": null,
   "id": "b67a70e1",
   "metadata": {},
   "outputs": [],
   "source": []
  }
 ],
 "metadata": {
  "kernelspec": {
   "display_name": "venv1kernel",
   "language": "python",
   "name": "venv1kernel"
  },
  "language_info": {
   "codemirror_mode": {
    "name": "ipython",
    "version": 3
   },
   "file_extension": ".py",
   "mimetype": "text/x-python",
   "name": "python",
   "nbconvert_exporter": "python",
   "pygments_lexer": "ipython3",
   "version": "3.10.0"
  }
 },
 "nbformat": 4,
 "nbformat_minor": 5
}
