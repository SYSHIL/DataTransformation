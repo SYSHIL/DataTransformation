{
 "cells": [
  {
   "cell_type": "code",
   "execution_count": 4,
   "id": "dcef85f4",
   "metadata": {},
   "outputs": [],
   "source": [
    "#Handling missing values\n",
    "from pyspark.sql import SparkSession\n",
    "spark = SparkSession.builder.appName('professions.csv').getOrCreate()"
   ]
  },
  {
   "cell_type": "code",
   "execution_count": 18,
   "id": "9e123ecf",
   "metadata": {},
   "outputs": [],
   "source": [
    "df_pyspark = spark.read.option('header','true').csv('professions.csv',inferSchema=True) "
   ]
  },
  {
   "cell_type": "code",
   "execution_count": 19,
   "id": "d3499de1",
   "metadata": {},
   "outputs": [
    {
     "name": "stdout",
     "output_type": "stream",
     "text": [
      "+---------+----+--------------------+\n",
      "|     Name| Age|          Profession|\n",
      "+---------+----+--------------------+\n",
      "|    Ilhan|  29|Principal Softwar...|\n",
      "|    Shoie|  35|          CEO - BASF|\n",
      "|  Nishadh|  41|   Head of analytics|\n",
      "|   Rifadh|  41|         CEO - ONINE|\n",
      "|    Azhar|  34|Greatest Cardiolo...|\n",
      "|  Arshadh|  42|         CEO - EXXON|\n",
      "|  Arshiya|  25|   Software Engineer|\n",
      "|Chandhini|  30|  Dance School owner|\n",
      "|    Suraj|null|    Marine Architect|\n",
      "|Arundathi|null|                null|\n",
      "|   Aparna|null|                null|\n",
      "|   Aadith|null|          Footballer|\n",
      "|   Kaveri|  29|                null|\n",
      "+---------+----+--------------------+\n",
      "\n"
     ]
    }
   ],
   "source": [
    "df_pyspark.show()"
   ]
  },
  {
   "cell_type": "code",
   "execution_count": 20,
   "id": "d89dc1ad",
   "metadata": {},
   "outputs": [
    {
     "name": "stdout",
     "output_type": "stream",
     "text": [
      "+---------+---+--------------------+\n",
      "|     Name|Age|          Profession|\n",
      "+---------+---+--------------------+\n",
      "|    Ilhan| 29|Principal Softwar...|\n",
      "|    Shoie| 35|          CEO - BASF|\n",
      "|  Nishadh| 41|   Head of analytics|\n",
      "|   Rifadh| 41|         CEO - ONINE|\n",
      "|    Azhar| 34|Greatest Cardiolo...|\n",
      "|  Arshadh| 42|         CEO - EXXON|\n",
      "|  Arshiya| 25|   Software Engineer|\n",
      "|Chandhini| 30|  Dance School owner|\n",
      "+---------+---+--------------------+\n",
      "\n"
     ]
    }
   ],
   "source": [
    "# Remove every row that has atleast one null value\n",
    "df_pyspark.na.drop(how='any').show()"
   ]
  },
  {
   "cell_type": "code",
   "execution_count": 21,
   "id": "6c178208",
   "metadata": {},
   "outputs": [
    {
     "name": "stdout",
     "output_type": "stream",
     "text": [
      "+---------+----+--------------------+\n",
      "|     Name| Age|          Profession|\n",
      "+---------+----+--------------------+\n",
      "|    Ilhan|  29|Principal Softwar...|\n",
      "|    Shoie|  35|          CEO - BASF|\n",
      "|  Nishadh|  41|   Head of analytics|\n",
      "|   Rifadh|  41|         CEO - ONINE|\n",
      "|    Azhar|  34|Greatest Cardiolo...|\n",
      "|  Arshadh|  42|         CEO - EXXON|\n",
      "|  Arshiya|  25|   Software Engineer|\n",
      "|Chandhini|  30|  Dance School owner|\n",
      "|    Suraj|null|    Marine Architect|\n",
      "|Arundathi|null|                null|\n",
      "|   Aparna|null|                null|\n",
      "|   Aadith|null|          Footballer|\n",
      "|   Kaveri|  29|                null|\n",
      "+---------+----+--------------------+\n",
      "\n"
     ]
    }
   ],
   "source": [
    "# Remove every row that has all null values\n",
    "df_pyspark.na.drop(how='all').show()"
   ]
  },
  {
   "cell_type": "code",
   "execution_count": 22,
   "id": "4ffc3138",
   "metadata": {},
   "outputs": [
    {
     "name": "stdout",
     "output_type": "stream",
     "text": [
      "+---------+----+--------------------+\n",
      "|     Name| Age|          Profession|\n",
      "+---------+----+--------------------+\n",
      "|    Ilhan|  29|Principal Softwar...|\n",
      "|    Shoie|  35|          CEO - BASF|\n",
      "|  Nishadh|  41|   Head of analytics|\n",
      "|   Rifadh|  41|         CEO - ONINE|\n",
      "|    Azhar|  34|Greatest Cardiolo...|\n",
      "|  Arshadh|  42|         CEO - EXXON|\n",
      "|  Arshiya|  25|   Software Engineer|\n",
      "|Chandhini|  30|  Dance School owner|\n",
      "|    Suraj|null|    Marine Architect|\n",
      "|   Aadith|null|          Footballer|\n",
      "|   Kaveri|  29|                null|\n",
      "+---------+----+--------------------+\n",
      "\n"
     ]
    }
   ],
   "source": [
    "# Remove every row that contains less than two non null values\n",
    "df_pyspark.na.drop(how='any',thresh=2).show()"
   ]
  },
  {
   "cell_type": "code",
   "execution_count": 23,
   "id": "de4f86d8",
   "metadata": {},
   "outputs": [
    {
     "name": "stdout",
     "output_type": "stream",
     "text": [
      "+---------+---+--------------------+\n",
      "|     Name|Age|          Profession|\n",
      "+---------+---+--------------------+\n",
      "|    Ilhan| 29|Principal Softwar...|\n",
      "|    Shoie| 35|          CEO - BASF|\n",
      "|  Nishadh| 41|   Head of analytics|\n",
      "|   Rifadh| 41|         CEO - ONINE|\n",
      "|    Azhar| 34|Greatest Cardiolo...|\n",
      "|  Arshadh| 42|         CEO - EXXON|\n",
      "|  Arshiya| 25|   Software Engineer|\n",
      "|Chandhini| 30|  Dance School owner|\n",
      "|   Kaveri| 29|                null|\n",
      "+---------+---+--------------------+\n",
      "\n"
     ]
    }
   ],
   "source": [
    "# Remove every row that has a null value in the Age column\n",
    "df_pyspark.na.drop(how='any',subset=['Age']).show()"
   ]
  },
  {
   "cell_type": "code",
   "execution_count": 24,
   "id": "02dd2619",
   "metadata": {},
   "outputs": [],
   "source": [
    "# Replace missing values\n",
    "df_pyspark = df_pyspark.na.fill('No idea',['Age'])\n",
    "df_pyspark = df_pyspark.na.fill('Check Linkedin',['Profession'])\n"
   ]
  },
  {
   "cell_type": "code",
   "execution_count": 25,
   "id": "3953494b",
   "metadata": {},
   "outputs": [
    {
     "name": "stdout",
     "output_type": "stream",
     "text": [
      "+---------+----+--------------------+\n",
      "|     Name| Age|          Profession|\n",
      "+---------+----+--------------------+\n",
      "|    Ilhan|  29|Principal Softwar...|\n",
      "|    Shoie|  35|          CEO - BASF|\n",
      "|  Nishadh|  41|   Head of analytics|\n",
      "|   Rifadh|  41|         CEO - ONINE|\n",
      "|    Azhar|  34|Greatest Cardiolo...|\n",
      "|  Arshadh|  42|         CEO - EXXON|\n",
      "|  Arshiya|  25|   Software Engineer|\n",
      "|Chandhini|  30|  Dance School owner|\n",
      "|    Suraj|null|    Marine Architect|\n",
      "|Arundathi|null|      Check Linkedin|\n",
      "|   Aparna|null|      Check Linkedin|\n",
      "|   Aadith|null|          Footballer|\n",
      "|   Kaveri|  29|      Check Linkedin|\n",
      "+---------+----+--------------------+\n",
      "\n"
     ]
    }
   ],
   "source": [
    "df_pyspark.show()"
   ]
  },
  {
   "cell_type": "code",
   "execution_count": 26,
   "id": "b36bf05a",
   "metadata": {},
   "outputs": [
    {
     "name": "stdout",
     "output_type": "stream",
     "text": [
      "root\n",
      " |-- Name: string (nullable = true)\n",
      " |-- Age: integer (nullable = true)\n",
      " |-- Profession: string (nullable = false)\n",
      "\n"
     ]
    }
   ],
   "source": [
    "df_pyspark.printSchema()"
   ]
  },
  {
   "cell_type": "code",
   "execution_count": null,
   "id": "91437c42",
   "metadata": {},
   "outputs": [],
   "source": [
    "from pyspark.ml.feature import Imputer\n",
    "imputer = Imputer(\n",
    "    inputCols = []\n",
    "    )"
   ]
  },
  {
   "cell_type": "code",
   "execution_count": null,
   "id": "a04e8cdf",
   "metadata": {},
   "outputs": [],
   "source": []
  }
 ],
 "metadata": {
  "kernelspec": {
   "display_name": "venv1kernel",
   "language": "python",
   "name": "venv1kernel"
  },
  "language_info": {
   "codemirror_mode": {
    "name": "ipython",
    "version": 3
   },
   "file_extension": ".py",
   "mimetype": "text/x-python",
   "name": "python",
   "nbconvert_exporter": "python",
   "pygments_lexer": "ipython3",
   "version": "3.10.0"
  }
 },
 "nbformat": 4,
 "nbformat_minor": 5
}
